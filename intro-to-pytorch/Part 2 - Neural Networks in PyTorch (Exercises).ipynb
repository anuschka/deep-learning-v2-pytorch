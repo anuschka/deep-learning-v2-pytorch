{
 "cells": [
  {
   "cell_type": "markdown",
   "metadata": {},
   "source": [
    "# Neural networks with PyTorch\n",
    "\n",
    "Deep learning networks tend to be massive with dozens or hundreds of layers, that's where the term \"deep\" comes from. You can build one of these deep networks using only weight matrices as we did in the previous notebook, but in general it's very cumbersome and difficult to implement. PyTorch has a nice module `nn` that provides a nice way to efficiently build large neural networks."
   ]
  },
  {
   "cell_type": "code",
   "execution_count": 1,
   "metadata": {},
   "outputs": [],
   "source": [
    "# Import necessary packages\n",
    "\n",
    "%matplotlib inline\n",
    "%config InlineBackend.figure_format = 'retina'\n",
    "\n",
    "import numpy as np\n",
    "import torch\n",
    "\n",
    "import helper\n",
    "\n",
    "import matplotlib.pyplot as plt"
   ]
  },
  {
   "cell_type": "markdown",
   "metadata": {},
   "source": [
    "\n",
    "Now we're going to build a larger network that can solve a (formerly) difficult problem, identifying text in an image. Here we'll use the MNIST dataset which consists of greyscale handwritten digits. Each image is 28x28 pixels, you can see a sample below\n",
    "\n",
    "<img src='assets/mnist.png'>\n",
    "\n",
    "Our goal is to build a neural network that can take one of these images and predict the digit in the image.\n",
    "\n",
    "First up, we need to get our dataset. This is provided through the `torchvision` package. The code below will download the MNIST dataset, then create training and test datasets for us. Don't worry too much about the details here, you'll learn more about this later."
   ]
  },
  {
   "cell_type": "code",
   "execution_count": 3,
   "metadata": {},
   "outputs": [],
   "source": [
    "### Run this cell\n",
    "\n",
    "from torchvision import datasets, transforms\n",
    "\n",
    "# Define a transform to normalize the data\n",
    "transform = transforms.Compose([transforms.ToTensor(),\n",
    "                              transforms.Normalize((0.5,), (0.5,)),\n",
    "                              ])\n",
    "\n",
    "# Download and load the training data\n",
    "trainset = datasets.MNIST('MNIST_data/', download=True, train=True, transform=transform)\n",
    "trainloader = torch.utils.data.DataLoader(trainset, batch_size=64, shuffle=True)"
   ]
  },
  {
   "cell_type": "code",
   "execution_count": 4,
   "metadata": {},
   "outputs": [
    {
     "data": {
      "text/plain": [
       "Dataset MNIST\n",
       "    Number of datapoints: 60000\n",
       "    Split: train\n",
       "    Root Location: MNIST_data/\n",
       "    Transforms (if any): Compose(\n",
       "                             ToTensor()\n",
       "                             Normalize(mean=(0.5,), std=(0.5,))\n",
       "                         )\n",
       "    Target Transforms (if any): None"
      ]
     },
     "execution_count": 4,
     "metadata": {},
     "output_type": "execute_result"
    }
   ],
   "source": [
    "trainset"
   ]
  },
  {
   "cell_type": "code",
   "execution_count": 5,
   "metadata": {},
   "outputs": [
    {
     "data": {
      "text/plain": [
       "<torch.utils.data.dataloader.DataLoader at 0x22794a7fb00>"
      ]
     },
     "execution_count": 5,
     "metadata": {},
     "output_type": "execute_result"
    }
   ],
   "source": [
    "trainloader"
   ]
  },
  {
   "cell_type": "raw",
   "metadata": {},
   "source": []
  },
  {
   "cell_type": "markdown",
   "metadata": {},
   "source": [
    "We have the training data loaded into `trainloader` and we make that an iterator with `iter(trainloader)`. Later, we'll use this to loop through the dataset for training, like\n",
    "\n",
    "```python\n",
    "for image, label in trainloader:\n",
    "    ## do things with images and labels\n",
    "```\n",
    "\n",
    "You'll notice I created the `trainloader` with a batch size of 64, and `shuffle=True`. The batch size is the number of images we get in one iteration from the data loader and pass through our network, often called a *batch*. And `shuffle=True` tells it to shuffle the dataset every time we start going through the data loader again. But here I'm just grabbing the first batch so we can check out the data. We can see below that `images` is just a tensor with size `(64, 1, 28, 28)`. So, 64 images per batch, 1 color channel, and 28x28 images."
   ]
  },
  {
   "cell_type": "code",
   "execution_count": 6,
   "metadata": {},
   "outputs": [
    {
     "name": "stdout",
     "output_type": "stream",
     "text": [
      "<class 'torch.Tensor'>\n",
      "torch.Size([64, 1, 28, 28])\n",
      "torch.Size([64])\n"
     ]
    }
   ],
   "source": [
    "dataiter = iter(trainloader)\n",
    "images, labels = dataiter.next()\n",
    "print(type(images))\n",
    "print(images.shape)\n",
    "print(labels.shape)"
   ]
  },
  {
   "cell_type": "markdown",
   "metadata": {},
   "source": [
    "This is what one of the images looks like. "
   ]
  },
  {
   "cell_type": "code",
   "execution_count": 12,
   "metadata": {},
   "outputs": [
    {
     "data": {
      "image/png": "[encoded data removed]",
      "text/plain": [
       "<Figure size 432x288 with 1 Axes>"
      ]
     },
     "metadata": {
      "image/png": {
       "height": 250,
       "width": 253
      },
      "needs_background": "light"
     },
     "output_type": "display_data"
    }
   ],
   "source": [
    "plt.imshow(images[2].numpy().squeeze(), cmap='Greys_r');"
   ]
  },
  {
   "cell_type": "markdown",
   "metadata": {},
   "source": [
    "First, let's try to build a simple network for this dataset using weight matrices and matrix multiplications. Then, we'll see how to do it using PyTorch's `nn` module which provides a much more convenient and powerful method for defining network architectures.\n",
    "\n",
    "The networks you've seen so far are called *fully-connected* or *dense* networks. Each unit in one layer is connected to each unit in the next layer. In fully-connected networks, the input to each layer must be a one-dimensional vector (which can be stacked into a 2D tensor as a batch of multiple examples). However, our images are 28x28 2D tensors, so we need to convert them into 1D vectors. Thinking about sizes, we need to convert the batch of images with shape `(64, 1, 28, 28)` to a have a shape of `(64, 784)`, 784 is 28 times 28. This is typically called *flattening*, we flattened the 2D images into 1D vectors.\n",
    "\n",
    "Previously you built a network with one output unit. Here we need 10 output units, one for each digit. We want our network to predict the digit shown in an image, so what we'll do is calculate probabilities that the image is of any one digit or class. This ends up being a discrete probability distribution over the classes (digits) that tells us the most likely class for the image. That means we need 10 output units for the 10 classes (digits). We'll see how to convert the network output into a probability distribution next.\n",
    "\n",
    "> **Exercise:** Flatten the batch of images `images`. Then build a multi-layer network with 784 input units, 256 hidden units, and 10 output units using random tensors for the weights and biases. For now, use a sigmoid activation for the hidden layer. Leave the output layer without an activation, we'll add one that gives us a probability distribution next."
   ]
  },
  {
   "cell_type": "code",
   "execution_count": 18,
   "metadata": {},
   "outputs": [
    {
     "name": "stdout",
     "output_type": "stream",
     "text": [
      "torch.Size([64, 10])\n"
     ]
    },
    {
     "data": {
      "text/plain": [
       "tensor([[  6.7612,   0.9966,   1.0003,  24.2878, -11.7516,  -2.0654,  -5.2116,\n",
       "           5.9560,  -5.3016,  10.5729],\n",
       "        [  1.6562,  -6.0633, -18.6879,   3.0113,  -2.9842,  -7.8755,  -9.3922,\n",
       "          -3.3591,  -1.0734,   8.4695],\n",
       "        [  7.8195,   6.3473, -16.7848,  10.8414,  -8.3530,  -9.7679,  -0.1332,\n",
       "          -2.1290,  -6.5186,  13.3045],\n",
       "        [ 20.6699,   1.8690, -16.2825,   6.5422, -15.5347, -14.7109,  -0.1724,\n",
       "          -4.1082,  -1.4805,  10.5829],\n",
       "        [  7.5931,   2.0626, -23.1324,   7.5270,  -7.1379,  -0.5296,  -0.7400,\n",
       "          -4.4840, -13.3420,  15.1453],\n",
       "        [ 15.0775,   7.7256, -29.5823,  15.4988, -10.1695,  -4.9894,  -3.0957,\n",
       "          -3.5177,  -0.1636,  20.7153],\n",
       "        [  8.0375,   4.2034, -19.2583,  10.2540, -10.8729,  -6.8179,  -8.8796,\n",
       "          -3.7869,  -3.8171,  14.1767],\n",
       "        [  1.6538,  -4.9333, -23.2287,   6.5161, -11.0768, -16.2754,   3.3561,\n",
       "          -7.3099,  -3.9242,  16.8261],\n",
       "        [ 16.8153,   1.6750, -12.3117,  10.7845, -14.1726,  -4.9814, -10.4572,\n",
       "          -0.9159,  -1.7824,   4.7470],\n",
       "        [ 13.9864,  -2.7155,  -9.2799,  10.3432, -18.6582,  -3.8534, -10.0340,\n",
       "           2.8658,  -7.9780,   4.9894],\n",
       "        [ 16.9801,   0.6627,  -8.3501,   0.7634,  -7.1771,   7.3368,   0.1051,\n",
       "          -6.5701,   2.3070,   5.4093],\n",
       "        [  7.7195,  -7.8789, -15.9050,  13.9571,  -3.0887,  -5.7157,   3.7203,\n",
       "           0.6877,  -5.4838,  11.0115],\n",
       "        [ 11.9199,  -8.0352,  -5.8028,   6.1473,  -4.1679,  -6.2297, -10.7093,\n",
       "           2.3690,   1.8620,   4.7996],\n",
       "        [  9.7324,   6.6695,  -4.1247,   7.9132,  -4.5316,  -4.3601,  -1.9256,\n",
       "           8.7024,  -6.0906,  17.8828],\n",
       "        [ 14.3169,  -2.5246,  -4.8128,  16.2743,  -1.4347,   6.9245,   3.2723,\n",
       "           8.5607,  -1.4677,   8.3325],\n",
       "        [  1.5836,   1.0738,  -8.4654,   7.7671,  -9.2482, -10.1559,  -8.3518,\n",
       "           1.2887,   1.1087,   6.0198],\n",
       "        [  2.3145,  -5.0168, -13.4653,  10.1106, -13.6976,  -2.5604,   2.6563,\n",
       "           6.9228,   2.1970,  13.0879],\n",
       "        [  7.6742,   0.7756, -16.5847,   5.7982, -10.1075,  -9.4570,  -6.5998,\n",
       "          -6.3513,  -4.9207,   8.8898],\n",
       "        [ 10.0952,   6.1739, -14.3307,  11.9820, -20.6910, -12.7447,  -5.3463,\n",
       "          -0.2911,  -2.5754,  13.3462],\n",
       "        [  6.0261,  -5.6780,  -9.2957,   8.2651,   3.1103,  -8.0423,   1.3424,\n",
       "          -3.7754,  -3.5744,   1.1453],\n",
       "        [  1.4680,  -0.7787,  -6.8944,   9.9276,  -9.2776,   0.3366,  -2.6439,\n",
       "          -4.3223,  -1.8601,   1.2647],\n",
       "        [  6.5360,   0.9048,   1.7328,   1.9514, -13.4370,  -1.6037,  -9.2154,\n",
       "          -0.5671,  -5.1286,  11.8885],\n",
       "        [  9.8157,  -1.8161, -14.0107,  15.9359,  -7.3547,  -5.8855,   0.1904,\n",
       "          -0.4368,  -4.6286,  10.7842],\n",
       "        [  7.1521,   4.9743,  -1.5817,  -2.5541,  -7.9998,  -2.1681,  18.2260,\n",
       "          16.2763,  -3.3068,   6.8102],\n",
       "        [  4.1711,  -9.5866,  -5.0374,   6.0389,  -2.0260,  -2.3474,  -7.9766,\n",
       "          -2.2944,  -4.2323,  10.0316],\n",
       "        [  9.3021,  -5.5871,  -5.8790,   7.7098,   1.9852,   0.0645,  -8.3606,\n",
       "          -3.9573,  -0.7673,   3.5503],\n",
       "        [  9.2662,   1.5876,  -7.4267,  10.3175,  -7.0583,  -8.7912,  -6.9881,\n",
       "           0.7605,  -2.0536,   9.1807],\n",
       "        [  6.4152,  -8.5399, -11.3825,   4.2801,  -3.6259,  -7.7613,  -1.1943,\n",
       "          -0.9378,  -4.0114,   1.2600],\n",
       "        [ 17.3494,   0.5440, -11.1402,   3.6587, -18.1172,  -3.2978,  -1.9982,\n",
       "           7.7972,  -7.1369,  11.1188],\n",
       "        [ 13.3759,   7.3900,  -9.9408,  16.6383,  -9.0118,  -4.0591,   3.0596,\n",
       "           1.9264,  -0.3071,  12.2100],\n",
       "        [ 10.7590,  -8.3681, -11.6505,  11.0744,  -6.0357,   0.9440,   0.1630,\n",
       "           9.3584,   0.0768,  21.6481],\n",
       "        [ 10.4877,   3.5450, -28.8428,  20.1588,  -9.1533,  -2.7505,  -0.5538,\n",
       "           0.0706,   3.2569,   8.1717],\n",
       "        [ 19.8295,   0.5713, -10.6624,   2.0795,  -5.2487,  -6.7820,  -2.5455,\n",
       "          -1.7825,   2.5612,   3.5446],\n",
       "        [ 17.7614,  -1.3232, -10.5987,   6.2640,   0.0170,   1.1337,  -0.3960,\n",
       "          -1.1427,  -2.2568,  -2.4576],\n",
       "        [ 13.3257, -10.3514, -13.2288,  16.3806,  -6.2284,  -0.4178,  -8.8274,\n",
       "           2.3770,  -2.7055,   6.7015],\n",
       "        [  8.0183,  -2.6825,  -9.8586,  12.6391,   0.3089,  -5.4725,   0.7813,\n",
       "           3.5991,  -4.2456,   8.4145],\n",
       "        [  9.1003,  -2.9645, -12.3132,   8.5126, -14.5494,   4.0832,  -2.1332,\n",
       "          -0.6188,   1.8116,  -2.4269],\n",
       "        [ 14.6085,  -3.3920, -12.3296,  14.7922, -11.1836,  -7.8903,  -2.1500,\n",
       "           1.6634,  -3.2401,  13.5242],\n",
       "        [  5.5713,   1.2645, -20.3930,   9.3349,  -3.2149,  -3.3033,  -0.4028,\n",
       "          -8.7771,  -8.0188,  16.8569],\n",
       "        [  6.7503,  -1.3371,  -3.4374,   9.9343, -15.3686,  -7.8048,   1.6656,\n",
       "          -2.4254,   1.9210,   4.8235],\n",
       "        [ 20.8033,  -6.8220, -13.7123,  10.3510,  -4.9913,   6.3089,   9.4647,\n",
       "          -3.8965,  -6.4226,  10.8345],\n",
       "        [ 11.0478,  -7.1866, -12.5649,  16.1280,  -8.0585,   8.1763,  -3.2360,\n",
       "           2.4961,   4.9341,   3.9159],\n",
       "        [ 10.1641,  -4.5823, -22.7908,  15.1828,  -7.4529,  -0.4468,  -6.2145,\n",
       "          -5.4259,  -1.7140,   7.2555],\n",
       "        [ 16.2550,   1.9808, -20.3542,   5.9048,  -2.0507,  -6.9906,  -2.2882,\n",
       "          -3.0416, -10.2138,   3.0207],\n",
       "        [  2.3823,  -2.6664,  -9.4835,  14.1509,  -9.0550,  -0.9216,  -2.6207,\n",
       "          -2.3855,  -6.6404,  11.8306],\n",
       "        [  7.1388,  -0.2221, -12.7793,  14.7908,  -9.2389,  -4.6000,  -5.9756,\n",
       "          -1.8014,  -3.7688,   9.4888],\n",
       "        [  5.9955,  -2.3278,  -5.6238,  11.3038,  -4.2606,  -8.7660,   0.3317,\n",
       "          -7.2128,  -7.2428,   4.8036],\n",
       "        [  4.1434,  -3.9107,  -5.2666,  10.8143,  -1.1814,  -2.4539,  -7.6686,\n",
       "          -4.6019,  -0.2997,  -8.1509],\n",
       "        [ 21.6689,   7.2974, -13.8709,  11.3974, -17.5800,   2.0661,  -5.7205,\n",
       "           6.1323,  -6.1259,  12.4217],\n",
       "        [  9.9192,   4.7491,  -4.7127,  11.8991, -11.6094,  -1.5412,  -3.5163,\n",
       "           1.7109,  -0.1351,   9.3060],\n",
       "        [ 11.4177, -11.2533,  -4.4974,  23.6450,  -5.4653,   9.2059, -10.5711,\n",
       "          -5.1950,  -4.1114,   8.2532],\n",
       "        [  8.3286,   1.8649,   0.7278,   6.3045,  -9.2418,  -9.3375,  -3.8227,\n",
       "          -2.4559,  -2.7466,   8.2380],\n",
       "        [ 14.2345,   1.8614, -19.8579,   7.0246,  -3.7041,   1.8756,  -7.8882,\n",
       "         -12.4524,  -2.4579,   7.7293],\n",
       "        [  5.7641,  -2.9511, -17.9402,  11.4970,  -8.7450,  -4.9315,  -5.7526,\n",
       "           4.3295, -12.0664,   6.7500],\n",
       "        [ 10.4923,  -1.6487, -24.6072,  15.5353, -10.2854,  -7.9516,  -3.7831,\n",
       "          -6.1058,  -4.4467,   9.3936],\n",
       "        [  1.8201,   1.2825,  -8.4753,  15.7554,  -9.3241,  -4.3510,  -2.3936,\n",
       "           3.6290,  -2.0048,   3.5151],\n",
       "        [  3.8893,   2.5432, -13.5138,   6.9388,  -7.6749, -11.8435,  -0.4518,\n",
       "           3.1757, -10.8535,  12.3783],\n",
       "        [ 11.7060,  -4.8524, -10.7907,   0.2127,  -5.1258,  -5.7898,  -1.6971,\n",
       "           8.7010,  -3.2338,  13.0942],\n",
       "        [ 16.9094,  -3.1972, -14.7455,  10.3032,  -7.0058,  -1.5510,   1.1584,\n",
       "          -9.4868,  -3.9426,  15.6734],\n",
       "        [ 10.9101,   2.4451, -11.2908,  11.9348,  -9.2255,  -1.9239,  -3.2102,\n",
       "           0.2695,  -0.4974,  12.8266],\n",
       "        [ 19.2476,   0.8165, -17.4970,  18.5199,  -6.0500,  -7.7527,  -5.0049,\n",
       "         -10.3564, -11.0526,   8.6753],\n",
       "        [ 10.9584,  -1.9689,  -7.7197,  11.3052,  -3.2811,  -2.9818,  -0.8963,\n",
       "           6.4455,  -6.2749,  14.0280],\n",
       "        [  0.4029,   1.3533, -12.6544,   7.8306,  -0.2637,  -8.8021,   2.4736,\n",
       "          -1.7843,  -2.2147,   8.9880],\n",
       "        [ 19.2410,  -5.1613, -14.9314,   5.8550, -13.5217,  14.8345,   0.5282,\n",
       "           7.9576,  -1.4258,  12.2267]])"
      ]
     },
     "execution_count": 18,
     "metadata": {},
     "output_type": "execute_result"
    }
   ],
   "source": [
    "## Solution\n",
    "def activation(x):\n",
    "    return 1/(1+torch.exp(-x))\n",
    "\n",
    "# Flatten the input images\n",
    "inputs = images.view(images.shape[0], -1)\n",
    "\n",
    "\n",
    "# Create parameters\n",
    "w1 = torch.randn(784, 256)\n",
    "b1 = torch.randn(256)\n",
    "\n",
    "w2 = torch.randn(256, 10)\n",
    "b2 = torch.randn(10)\n",
    "\n",
    "h = activation(torch.mm(inputs, w1) + b1)\n",
    "\n",
    "out = torch.mm(h, w2) + b2\n",
    "print(out.shape)\n",
    "out"
   ]
  },
  {
   "cell_type": "markdown",
   "metadata": {},
   "source": [
    "Now we have 10 outputs for our network. We want to pass in an image to our network and get out a probability distribution over the classes that tells us the likely class(es) the image belongs to. Something that looks like this:\n",
    "<img src='assets/image_distribution.png' width=500px>\n",
    "\n",
    "Here we see that the probability for each class is roughly the same. This is representing an untrained network, it hasn't seen any data yet so it just returns a uniform distribution with equal probabilities for each class.\n",
    "\n",
    "To calculate this probability distribution, we often use the [**softmax** function](https://en.wikipedia.org/wiki/Softmax_function). Mathematically this looks like\n",
    "\n",
    "$$\n",
    "\\Large \\sigma(x_i) = \\cfrac{e^{x_i}}{\\sum_k^K{e^{x_k}}}\n",
    "$$\n",
    "\n",
    "What this does is squish each input $x_i$ between 0 and 1 and normalizes the values to give you a proper probability distribution where the probabilites sum up to one.\n",
    "\n",
    "> **Exercise:** Implement a function `softmax` that performs the softmax calculation and returns probability distributions for each example in the batch. Note that you'll need to pay attention to the shapes when doing this. If you have a tensor `a` with shape `(64, 10)` and a tensor `b` with shape `(64,)`, doing `a/b` will give you an error because PyTorch will try to do the division across the columns (called broadcasting) but you'll get a size mismatch. The way to think about this is for each of the 64 examples, you only want to divide by one value, the sum in the denominator. So you need `b` to have a shape of `(64, 1)`. This way PyTorch will divide the 10 values in each row of `a` by the one value in each row of `b`. Pay attention to how you take the sum as well. You'll need to define the `dim` keyword in `torch.sum`. Setting `dim=0` takes the sum across the rows while `dim=1` takes the sum across the columns."
   ]
  },
  {
   "cell_type": "code",
   "execution_count": 26,
   "metadata": {},
   "outputs": [
    {
     "name": "stdout",
     "output_type": "stream",
     "text": [
      "torch.Size([64, 10])\n",
      "tensor([1.0000, 1.0000, 1.0000, 1.0000, 1.0000, 1.0000, 1.0000, 1.0000, 1.0000,\n",
      "        1.0000, 1.0000, 1.0000, 1.0000, 1.0000, 1.0000, 1.0000, 1.0000, 1.0000,\n",
      "        1.0000, 1.0000, 1.0000, 1.0000, 1.0000, 1.0000, 1.0000, 1.0000, 1.0000,\n",
      "        1.0000, 1.0000, 1.0000, 1.0000, 1.0000, 1.0000, 1.0000, 1.0000, 1.0000,\n",
      "        1.0000, 1.0000, 1.0000, 1.0000, 1.0000, 1.0000, 1.0000, 1.0000, 1.0000,\n",
      "        1.0000, 1.0000, 1.0000, 1.0000, 1.0000, 1.0000, 1.0000, 1.0000, 1.0000,\n",
      "        1.0000, 1.0000, 1.0000, 1.0000, 1.0000, 1.0000, 1.0000, 1.0000, 1.0000,\n",
      "        1.0000])\n"
     ]
    }
   ],
   "source": [
    "## Solution\n",
    "def softmax(x):\n",
    "    return torch.exp(x)/torch.sum(torch.exp(x), dim=1).view(64, 1)\n",
    "def nominator(x):\n",
    "    return torch.exp(x)\n",
    "def denominator(x):\n",
    "    return torch.sum(torch.exp(x), dim=1).view(64, 1)\n",
    "\n",
    "#res_nomitator = nominator(out)\n",
    "#print(res_nomitator.shape)\n",
    "#res_denomitator = denominator(out)\n",
    "#print(res_denomitator.shape)\n",
    "#print(res_nomitator/res_denomitator)\n",
    "#probabilities = softmax(out)\n",
    "\n",
    "# Does it have the right shape? Should be (64, 10)\n",
    "print(probabilities.shape)\n",
    "# Does it sum to 1?\n",
    "print(probabilities.sum(dim=1))"
   ]
  },
  {
   "cell_type": "markdown",
   "metadata": {},
   "source": [
    "## Building networks with PyTorch\n",
    "\n",
    "PyTorch provides a module `nn` that makes building networks much simpler. Here I'll show you how to build the same one as above with 784 inputs, 256 hidden units, 10 output units and a softmax output."
   ]
  },
  {
   "cell_type": "code",
   "execution_count": 27,
   "metadata": {},
   "outputs": [],
   "source": [
    "from torch import nn"
   ]
  },
  {
   "cell_type": "code",
   "execution_count": 29,
   "metadata": {},
   "outputs": [],
   "source": [
    "class Network(nn.Module):\n",
    "    def __init__(self):\n",
    "        super().__init__()\n",
    "        \n",
    "        # Inputs to hidden layer linear transformation\n",
    "        self.hidden = nn.Linear(784, 256)\n",
    "        # Output layer, 10 units - one for each digit\n",
    "        self.output = nn.Linear(256, 10)\n",
    "        \n",
    "        # Define sigmoid activation and softmax output \n",
    "        self.sigmoid = nn.Sigmoid()\n",
    "        self.softmax = nn.Softmax(dim=1)\n",
    "        \n",
    "    def forward(self, x):\n",
    "        # Pass the input tensor through each of our operations\n",
    "        x = self.hidden(x)\n",
    "        x = self.sigmoid(x)\n",
    "        x = self.output(x)\n",
    "        x = self.softmax(x)\n",
    "        \n",
    "        return x"
   ]
  },
  {
   "cell_type": "markdown",
   "metadata": {},
   "source": [
    "Let's go through this bit by bit.\n",
    "\n",
    "```python\n",
    "class Network(nn.Module):\n",
    "```\n",
    "\n",
    "Here we're inheriting from `nn.Module`. Combined with `super().__init__()` this creates a class that tracks the architecture and provides a lot of useful methods and attributes. It is mandatory to inherit from `nn.Module` when you're creating a class for your network. The name of the class itself can be anything.\n",
    "\n",
    "```python\n",
    "self.hidden = nn.Linear(784, 256)\n",
    "```\n",
    "\n",
    "This line creates a module for a linear transformation, $x\\mathbf{W} + b$, with 784 inputs and 256 outputs and assigns it to `self.hidden`. The module automatically creates the weight and bias tensors which we'll use in the `forward` method. You can access the weight and bias tensors once the network once it's create at `net.hidden.weight` and `net.hidden.bias`.\n",
    "\n",
    "```python\n",
    "self.output = nn.Linear(256, 10)\n",
    "```\n",
    "\n",
    "Similarly, this creates another linear transformation with 256 inputs and 10 outputs.\n",
    "\n",
    "```python\n",
    "self.sigmoid = nn.Sigmoid()\n",
    "self.softmax = nn.Softmax(dim=1)\n",
    "```\n",
    "\n",
    "Here I defined operations for the sigmoid activation and softmax output. Setting `dim=1` in `nn.Softmax(dim=1)` calculates softmax across the columns.\n",
    "\n",
    "```python\n",
    "def forward(self, x):\n",
    "```\n",
    "\n",
    "PyTorch networks created with `nn.Module` must have a `forward` method defined. It takes in a tensor `x` and passes it through the operations you defined in the `__init__` method.\n",
    "\n",
    "```python\n",
    "x = self.hidden(x)\n",
    "x = self.sigmoid(x)\n",
    "x = self.output(x)\n",
    "x = self.softmax(x)\n",
    "```\n",
    "\n",
    "Here the input tensor `x` is passed through each operation a reassigned to `x`. We can see that the input tensor goes through the hidden layer, then a sigmoid function, then the output layer, and finally the softmax function. It doesn't matter what you name the variables here, as long as the inputs and outputs of the operations match the network architecture you want to build. The order in which you define things in the `__init__` method doesn't matter, but you'll need to sequence the operations correctly in the `forward` method.\n",
    "\n",
    "Now we can create a `Network` object."
   ]
  },
  {
   "cell_type": "code",
   "execution_count": 35,
   "metadata": {},
   "outputs": [
    {
     "name": "stdout",
     "output_type": "stream",
     "text": [
      "Parameter containing:\n",
      "tensor([[-0.0121,  0.0028, -0.0137,  ..., -0.0135,  0.0055,  0.0015],\n",
      "        [ 0.0134, -0.0218, -0.0029,  ...,  0.0301,  0.0112, -0.0249],\n",
      "        [ 0.0295, -0.0326,  0.0088,  ..., -0.0119, -0.0186, -0.0314],\n",
      "        ...,\n",
      "        [-0.0133, -0.0139, -0.0036,  ...,  0.0032,  0.0191, -0.0069],\n",
      "        [-0.0300, -0.0056,  0.0280,  ..., -0.0104, -0.0341,  0.0294],\n",
      "        [ 0.0231, -0.0303, -0.0243,  ..., -0.0099,  0.0030, -0.0244]],\n",
      "       requires_grad=True)\n"
     ]
    }
   ],
   "source": [
    "# Create the network and look at it's text representation\n",
    "model = Network()\n",
    "model\n",
    "print(model.hidden.weight)\n"
   ]
  },
  {
   "cell_type": "markdown",
   "metadata": {},
   "source": [
    "You can define the network somewhat more concisely and clearly using the `torch.nn.functional` module. This is the most common way you'll see networks defined as many operations are simple element-wise functions. We normally import this module as `F`, `import torch.nn.functional as F`."
   ]
  },
  {
   "cell_type": "code",
   "execution_count": null,
   "metadata": {},
   "outputs": [],
   "source": [
    "import torch.nn.functional as F\n",
    "\n",
    "class Network(nn.Module):\n",
    "    def __init__(self):\n",
    "        super().__init__()\n",
    "        # Inputs to hidden layer linear transformation\n",
    "        self.hidden = nn.Linear(784, 256)\n",
    "        # Output layer, 10 units - one for each digit\n",
    "        self.output = nn.Linear(256, 10)\n",
    "        \n",
    "    def forward(self, x):\n",
    "        # Hidden layer with sigmoid activation\n",
    "        x = F.sigmoid(self.hidden(x))\n",
    "        # Output layer with softmax activation\n",
    "        x = F.softmax(self.output(x), dim=1)\n",
    "        \n",
    "        return x"
   ]
  },
  {
   "cell_type": "code",
   "execution_count": 37,
   "metadata": {},
   "outputs": [
    {
     "data": {
      "text/plain": [
       "Network(\n",
       "  (hidden): Linear(in_features=784, out_features=256, bias=True)\n",
       "  (output): Linear(in_features=256, out_features=10, bias=True)\n",
       "  (sigmoid): Sigmoid()\n",
       "  (softmax): Softmax()\n",
       ")"
      ]
     },
     "execution_count": 37,
     "metadata": {},
     "output_type": "execute_result"
    }
   ],
   "source": [
    "model = Network()\n",
    "model"
   ]
  },
  {
   "cell_type": "markdown",
   "metadata": {},
   "source": [
    "### Activation functions\n",
    "\n",
    "So far we've only been looking at the softmax activation, but in general any function can be used as an activation function. The only requirement is that for a network to approximate a non-linear function, the activation functions must be non-linear. Here are a few more examples of common activation functions: Tanh (hyperbolic tangent), and ReLU (rectified linear unit).\n",
    "\n",
    "<img src=\"assets/activation.png\" width=700px>\n",
    "\n",
    "In practice, the ReLU function is used almost exclusively as the activation function for hidden layers."
   ]
  },
  {
   "cell_type": "markdown",
   "metadata": {},
   "source": [
    "### Your Turn to Build a Network\n",
    "\n",
    "<img src=\"assets/mlp_mnist.png\" width=600px>\n",
    "\n",
    "> **Exercise:** Create a network with 784 input units, a hidden layer with 128 units and a ReLU activation, then a hidden layer with 64 units and a ReLU activation, and finally an output layer with a softmax activation as shown above. You can use a ReLU activation with the `nn.ReLU` module or `F.relu` function."
   ]
  },
  {
   "cell_type": "code",
   "execution_count": 40,
   "metadata": {
    "scrolled": true
   },
   "outputs": [],
   "source": [
    "## Solution\n",
    "class Network(nn.Module):\n",
    "    def __init__(self):\n",
    "        super().__init__()\n",
    "        \n",
    "        # Inputs to first hidden layer linear transformation\n",
    "        self.fc1 = nn.Linear(784, 128)\n",
    "        # Inputs to second hidden layer linear transformation\n",
    "        self.fc2 = nn.Linear(128, 64)\n",
    "        # Output layer, 10 units - one for each digit\n",
    "        self.fc3 = nn.Linear(64, 10)\n",
    "        \n",
    "        # Define sigmoid activation and softmax output \n",
    "        self.relu = nn.ReLU()\n",
    "        self.softmax = nn.Softmax(dim=1)\n",
    "        \n",
    "    def forward(self, x):\n",
    "        # Pass the input tensor through each of our operations\n",
    "        x = self.fc1(x)\n",
    "        x = self.relu(x)\n",
    "        x = self.fc2(x)\n",
    "        x = self.relu(x)\n",
    "        x = self.fc3(x)\n",
    "        x = self.softmax(x)\n",
    "        \n",
    "        return x\n"
   ]
  },
  {
   "cell_type": "code",
   "execution_count": 41,
   "metadata": {},
   "outputs": [
    {
     "data": {
      "text/plain": [
       "Network(\n",
       "  (fc1): Linear(in_features=784, out_features=128, bias=True)\n",
       "  (fc2): Linear(in_features=128, out_features=64, bias=True)\n",
       "  (fc3): Linear(in_features=64, out_features=10, bias=True)\n",
       "  (relu): ReLU()\n",
       "  (softmax): Softmax()\n",
       ")"
      ]
     },
     "execution_count": 41,
     "metadata": {},
     "output_type": "execute_result"
    }
   ],
   "source": [
    "model = Network()\n",
    "model"
   ]
  },
  {
   "cell_type": "markdown",
   "metadata": {},
   "source": [
    "### Initializing weights and biases\n",
    "\n",
    "The weights and such are automatically initialized for you, but it's possible to customize how they are initialized. The weights and biases are tensors attached to the layer you defined, you can get them with `model.fc1.weight` for instance."
   ]
  },
  {
   "cell_type": "code",
   "execution_count": 42,
   "metadata": {},
   "outputs": [
    {
     "name": "stdout",
     "output_type": "stream",
     "text": [
      "Parameter containing:\n",
      "tensor([[ 0.0181, -0.0231,  0.0135,  ...,  0.0149, -0.0059,  0.0342],\n",
      "        [-0.0320,  0.0203, -0.0248,  ...,  0.0130, -0.0231, -0.0271],\n",
      "        [-0.0281,  0.0110,  0.0195,  ..., -0.0282,  0.0035,  0.0247],\n",
      "        ...,\n",
      "        [-0.0224,  0.0003, -0.0064,  ...,  0.0217,  0.0242,  0.0320],\n",
      "        [-0.0109,  0.0307, -0.0258,  ...,  0.0271,  0.0355,  0.0177],\n",
      "        [ 0.0294,  0.0349, -0.0249,  ...,  0.0142,  0.0032,  0.0237]],\n",
      "       requires_grad=True)\n",
      "Parameter containing:\n",
      "tensor([ 0.0049,  0.0032,  0.0181,  0.0096, -0.0271,  0.0046,  0.0086,  0.0330,\n",
      "         0.0022, -0.0259,  0.0038,  0.0250, -0.0255, -0.0125,  0.0092,  0.0275,\n",
      "        -0.0096,  0.0056,  0.0210,  0.0111, -0.0261,  0.0329,  0.0265,  0.0036,\n",
      "         0.0324,  0.0150,  0.0013,  0.0246,  0.0050,  0.0044, -0.0128,  0.0144,\n",
      "        -0.0111, -0.0122,  0.0148, -0.0325,  0.0051, -0.0274, -0.0175,  0.0305,\n",
      "        -0.0312,  0.0325,  0.0121,  0.0021,  0.0087,  0.0220,  0.0324,  0.0159,\n",
      "        -0.0155, -0.0286, -0.0309,  0.0110, -0.0314, -0.0047, -0.0269, -0.0296,\n",
      "        -0.0015, -0.0251,  0.0100,  0.0171,  0.0000, -0.0048,  0.0280, -0.0130,\n",
      "         0.0190,  0.0189, -0.0070,  0.0183, -0.0195, -0.0107,  0.0016,  0.0038,\n",
      "        -0.0119, -0.0013, -0.0226,  0.0029,  0.0188,  0.0062, -0.0082, -0.0129,\n",
      "         0.0046, -0.0099,  0.0201,  0.0146,  0.0022, -0.0168,  0.0301,  0.0274,\n",
      "         0.0141, -0.0291, -0.0335, -0.0131,  0.0047,  0.0067,  0.0239, -0.0056,\n",
      "         0.0084,  0.0229,  0.0154, -0.0189, -0.0318, -0.0253,  0.0324, -0.0041,\n",
      "         0.0254, -0.0164,  0.0253,  0.0223, -0.0301, -0.0243, -0.0087,  0.0211,\n",
      "        -0.0120, -0.0005,  0.0326,  0.0074, -0.0052,  0.0290,  0.0317, -0.0147,\n",
      "         0.0274,  0.0080, -0.0116,  0.0106,  0.0298, -0.0196, -0.0259, -0.0024],\n",
      "       requires_grad=True)\n"
     ]
    }
   ],
   "source": [
    "print(model.fc1.weight)\n",
    "print(model.fc1.bias)"
   ]
  },
  {
   "cell_type": "markdown",
   "metadata": {},
   "source": [
    "For custom initialization, we want to modify these tensors in place. These are actually autograd *Variables*, so we need to get back the actual tensors with `model.fc1.weight.data`. Once we have the tensors, we can fill them with zeros (for biases) or random normal values."
   ]
  },
  {
   "cell_type": "code",
   "execution_count": 43,
   "metadata": {},
   "outputs": [
    {
     "data": {
      "text/plain": [
       "tensor([0., 0., 0., 0., 0., 0., 0., 0., 0., 0., 0., 0., 0., 0., 0., 0., 0., 0.,\n",
       "        0., 0., 0., 0., 0., 0., 0., 0., 0., 0., 0., 0., 0., 0., 0., 0., 0., 0.,\n",
       "        0., 0., 0., 0., 0., 0., 0., 0., 0., 0., 0., 0., 0., 0., 0., 0., 0., 0.,\n",
       "        0., 0., 0., 0., 0., 0., 0., 0., 0., 0., 0., 0., 0., 0., 0., 0., 0., 0.,\n",
       "        0., 0., 0., 0., 0., 0., 0., 0., 0., 0., 0., 0., 0., 0., 0., 0., 0., 0.,\n",
       "        0., 0., 0., 0., 0., 0., 0., 0., 0., 0., 0., 0., 0., 0., 0., 0., 0., 0.,\n",
       "        0., 0., 0., 0., 0., 0., 0., 0., 0., 0., 0., 0., 0., 0., 0., 0., 0., 0.,\n",
       "        0., 0.])"
      ]
     },
     "execution_count": 43,
     "metadata": {},
     "output_type": "execute_result"
    }
   ],
   "source": [
    "# Set biases to all zeros\n",
    "model.fc1.bias.data.fill_(0)"
   ]
  },
  {
   "cell_type": "code",
   "execution_count": 44,
   "metadata": {},
   "outputs": [
    {
     "data": {
      "text/plain": [
       "tensor([[-0.0077, -0.0033,  0.0049,  ..., -0.0110,  0.0038, -0.0097],\n",
       "        [-0.0006, -0.0154,  0.0027,  ..., -0.0030,  0.0133,  0.0125],\n",
       "        [ 0.0020,  0.0017, -0.0034,  ...,  0.0104,  0.0021, -0.0016],\n",
       "        ...,\n",
       "        [-0.0184, -0.0008, -0.0150,  ...,  0.0015,  0.0084, -0.0031],\n",
       "        [-0.0030, -0.0074, -0.0112,  ...,  0.0086,  0.0050, -0.0148],\n",
       "        [ 0.0002, -0.0009, -0.0093,  ..., -0.0015, -0.0046,  0.0123]])"
      ]
     },
     "execution_count": 44,
     "metadata": {},
     "output_type": "execute_result"
    }
   ],
   "source": [
    "# sample from random normal with standard dev = 0.01\n",
    "model.fc1.weight.data.normal_(std=0.01)"
   ]
  },
  {
   "cell_type": "markdown",
   "metadata": {},
   "source": [
    "### Forward pass\n",
    "\n",
    "Now that we have a network, let's see what happens when we pass in an image."
   ]
  },
  {
   "cell_type": "code",
   "execution_count": 59,
   "metadata": {},
   "outputs": [
    {
     "name": "stdout",
     "output_type": "stream",
     "text": [
      "torch.Size([64, 1, 28, 28])\n",
      "torch.Size([1, 784])\n"
     ]
    },
    {
     "data": {
      "image/png": "[encoded data removed]",
      "text/plain": [
       "<Figure size 432x648 with 2 Axes>"
      ]
     },
     "metadata": {
      "image/png": {
       "height": 226,
       "width": 423
      },
      "needs_background": "light"
     },
     "output_type": "display_data"
    }
   ],
   "source": [
    "# Grab some data \n",
    "dataiter = iter(trainloader)\n",
    "images, labels = dataiter.next()\n",
    "print(images.shape)\n",
    "\n",
    "\n",
    "\n",
    "# Resize images into a 1D vector, new shape is (batch size, color channels, image pixels) \n",
    "images.resize_(64, 1, 784)\n",
    "# or images.resize_(images.shape[0], 1, 784) to automatically get batch size\n",
    "\n",
    "# Forward pass through the network\n",
    "img_idx = 0\n",
    "ps = model.forward(images[img_idx,:])\n",
    "\n",
    "img = images[img_idx]\n",
    "print(img.shape)\n",
    "helper.view_classify(img.view(1, 28, 28), ps)"
   ]
  },
  {
   "cell_type": "markdown",
   "metadata": {},
   "source": [
    "As you can see above, our network has basically no idea what this digit is. It's because we haven't trained it yet, all the weights are random!\n",
    "\n",
    "### Using `nn.Sequential`\n",
    "\n",
    "PyTorch provides a convenient way to build networks like this where a tensor is passed sequentially through operations, `nn.Sequential` ([documentation](https://pytorch.org/docs/master/nn.html#torch.nn.Sequential)). Using this to build the equivalent network:"
   ]
  },
  {
   "cell_type": "code",
   "execution_count": 48,
   "metadata": {},
   "outputs": [
    {
     "name": "stdout",
     "output_type": "stream",
     "text": [
      "Sequential(\n",
      "  (0): Linear(in_features=784, out_features=128, bias=True)\n",
      "  (1): ReLU()\n",
      "  (2): Linear(in_features=128, out_features=64, bias=True)\n",
      "  (3): ReLU()\n",
      "  (4): Linear(in_features=64, out_features=10, bias=True)\n",
      "  (5): Softmax()\n",
      ")\n"
     ]
    },
    {
     "data": {
      "image/png": "[encoded data removed]",
      "text/plain": [
       "<Figure size 432x648 with 2 Axes>"
      ]
     },
     "metadata": {
      "image/png": {
       "height": 226,
       "width": 423
      },
      "needs_background": "light"
     },
     "output_type": "display_data"
    }
   ],
   "source": [
    "# Hyperparameters for our network\n",
    "input_size = 784\n",
    "hidden_sizes = [128, 64]\n",
    "output_size = 10\n",
    "\n",
    "# Build a feed-forward network\n",
    "model = nn.Sequential(nn.Linear(input_size, hidden_sizes[0]),\n",
    "                      nn.ReLU(),\n",
    "                      nn.Linear(hidden_sizes[0], hidden_sizes[1]),\n",
    "                      nn.ReLU(),\n",
    "                      nn.Linear(hidden_sizes[1], output_size),\n",
    "                      nn.Softmax(dim=1))\n",
    "print(model)\n",
    "\n",
    "# Forward pass through the network and display output\n",
    "images, labels = next(iter(trainloader))\n",
    "images.resize_(images.shape[0], 1, 784)\n",
    "ps = model.forward(images[0,:])\n",
    "helper.view_classify(images[0].view(1, 28, 28), ps)"
   ]
  },
  {
   "cell_type": "markdown",
   "metadata": {},
   "source": [
    "Here our model is the same as before: 784 input units, a hidden layer with 128 units, ReLU activation, 64 unit hidden layer, another ReLU, then the output layer with 10 units, and the softmax output.\n",
    "\n",
    "The operations are availble by passing in the appropriate index. For example, if you want to get first Linear operation and look at the weights, you'd use `model[0]`."
   ]
  },
  {
   "cell_type": "code",
   "execution_count": 60,
   "metadata": {},
   "outputs": [
    {
     "name": "stdout",
     "output_type": "stream",
     "text": [
      "Linear(in_features=784, out_features=128, bias=True)\n"
     ]
    },
    {
     "data": {
      "text/plain": [
       "Parameter containing:\n",
       "tensor([[-0.0026,  0.0312, -0.0206,  ...,  0.0301, -0.0026,  0.0063],\n",
       "        [-0.0240, -0.0032, -0.0284,  ...,  0.0068,  0.0247,  0.0276],\n",
       "        [-0.0128,  0.0192,  0.0276,  ...,  0.0001,  0.0174, -0.0116],\n",
       "        ...,\n",
       "        [-0.0234, -0.0042, -0.0345,  ..., -0.0284,  0.0016,  0.0073],\n",
       "        [ 0.0140,  0.0145,  0.0103,  ..., -0.0218, -0.0102, -0.0284],\n",
       "        [ 0.0238,  0.0309, -0.0236,  ..., -0.0322,  0.0354, -0.0345]],\n",
       "       requires_grad=True)"
      ]
     },
     "execution_count": 60,
     "metadata": {},
     "output_type": "execute_result"
    }
   ],
   "source": [
    "print(model[0])\n",
    "model[0].weight"
   ]
  },
  {
   "cell_type": "markdown",
   "metadata": {},
   "source": [
    "You can also pass in an `OrderedDict` to name the individual layers and operations, instead of using incremental integers. Note that dictionary keys must be unique, so _each operation must have a different name_."
   ]
  },
  {
   "cell_type": "code",
   "execution_count": 61,
   "metadata": {},
   "outputs": [
    {
     "data": {
      "text/plain": [
       "Sequential(\n",
       "  (fc1): Linear(in_features=784, out_features=128, bias=True)\n",
       "  (relu1): ReLU()\n",
       "  (fc2): Linear(in_features=128, out_features=64, bias=True)\n",
       "  (relu2): ReLU()\n",
       "  (output): Linear(in_features=64, out_features=10, bias=True)\n",
       "  (softmax): Softmax()\n",
       ")"
      ]
     },
     "execution_count": 61,
     "metadata": {},
     "output_type": "execute_result"
    }
   ],
   "source": [
    "from collections import OrderedDict\n",
    "model = nn.Sequential(OrderedDict([\n",
    "                      ('fc1', nn.Linear(input_size, hidden_sizes[0])),\n",
    "                      ('relu1', nn.ReLU()),\n",
    "                      ('fc2', nn.Linear(hidden_sizes[0], hidden_sizes[1])),\n",
    "                      ('relu2', nn.ReLU()),\n",
    "                      ('output', nn.Linear(hidden_sizes[1], output_size)),\n",
    "                      ('softmax', nn.Softmax(dim=1))]))\n",
    "model"
   ]
  },
  {
   "cell_type": "markdown",
   "metadata": {},
   "source": [
    "Now you can access layers either by integer or the name"
   ]
  },
  {
   "cell_type": "code",
   "execution_count": 62,
   "metadata": {},
   "outputs": [
    {
     "name": "stdout",
     "output_type": "stream",
     "text": [
      "Linear(in_features=784, out_features=128, bias=True)\n",
      "Linear(in_features=784, out_features=128, bias=True)\n"
     ]
    }
   ],
   "source": [
    "print(model[0])\n",
    "print(model.fc1)"
   ]
  },
  {
   "cell_type": "markdown",
   "metadata": {},
   "source": [
    "In the next notebook, we'll see how we can train a neural network to accuractly predict the numbers appearing in the MNIST images."
   ]
  }
 ],
 "metadata": {
  "kernelspec": {
   "display_name": "Python 3",
   "language": "python",
   "name": "python3"
  },
  "language_info": {
   "codemirror_mode": {
    "name": "ipython",
    "version": 3
   },
   "file_extension": ".py",
   "mimetype": "text/x-python",
   "name": "python",
   "nbconvert_exporter": "python",
   "pygments_lexer": "ipython3",
   "version": "3.6.7"
  }
 },
 "nbformat": 4,
 "nbformat_minor": 2
}
